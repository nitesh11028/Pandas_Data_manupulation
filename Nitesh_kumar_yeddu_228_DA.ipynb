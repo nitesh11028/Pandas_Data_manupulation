{
 "cells": [
  {
   "cell_type": "markdown",
   "id": "60abf8b7",
   "metadata": {},
   "source": [
    "compute min/max"
   ]
  },
  {
   "cell_type": "code",
   "execution_count": 5,
   "id": "adccf17c",
   "metadata": {},
   "outputs": [
    {
     "data": {
      "text/plain": [
       "array([[9, 9, 4],\n",
       "       [8, 8, 1],\n",
       "       [5, 3, 6],\n",
       "       [3, 3, 3],\n",
       "       [2, 1, 9]])"
      ]
     },
     "execution_count": 5,
     "metadata": {},
     "output_type": "execute_result"
    }
   ],
   "source": [
    "import numpy as np\n",
    "np.random.seed(100)\n",
    "a = np.random.randint(1,10, [5,3])\n",
    "a\n"
   ]
  },
  {
   "cell_type": "code",
   "execution_count": 6,
   "id": "b3f58ec1",
   "metadata": {},
   "outputs": [
    {
     "data": {
      "text/plain": [
       "9"
      ]
     },
     "execution_count": 6,
     "metadata": {},
     "output_type": "execute_result"
    }
   ],
   "source": [
    "a.max()"
   ]
  },
  {
   "cell_type": "markdown",
   "id": "8724a7ba",
   "metadata": {},
   "source": [
    "How to get the items present in series A and not in series B"
   ]
  },
  {
   "cell_type": "code",
   "execution_count": 9,
   "id": "53b480de",
   "metadata": {},
   "outputs": [
    {
     "name": "stdout",
     "output_type": "stream",
     "text": [
      "0     2\n",
      "1     4\n",
      "2     6\n",
      "3     8\n",
      "4    10\n",
      "dtype: int64\n",
      "\n",
      "0     8\n",
      "1    10\n",
      "2    12\n",
      "3    14\n",
      "4    16\n",
      "dtype: int64\n"
     ]
    }
   ],
   "source": [
    "import pandas as pd\n",
    "p1 = pd.Series([2, 4, 6, 8, 10])\n",
    "p2 = pd.Series([8, 10, 12, 14, 16])\n",
    "print(p1)\n",
    "print()\n",
    "print(p2)"
   ]
  },
  {
   "cell_type": "code",
   "execution_count": 11,
   "id": "39f38344",
   "metadata": {},
   "outputs": [
    {
     "data": {
      "text/plain": [
       "0    2\n",
       "1    4\n",
       "2    6\n",
       "dtype: int64"
      ]
     },
     "execution_count": 11,
     "metadata": {},
     "output_type": "execute_result"
    }
   ],
   "source": [
    "p1[~p1.isin(p2)]"
   ]
  },
  {
   "cell_type": "markdown",
   "id": "4ed25b0b",
   "metadata": {},
   "source": [
    "explain what is vectorisation in Numpy with a code example"
   ]
  },
  {
   "cell_type": "code",
   "execution_count": 13,
   "id": "41d0b303",
   "metadata": {},
   "outputs": [
    {
     "name": "stdout",
     "output_type": "stream",
     "text": [
      "[1 2 3]\n",
      "[4 5 6]\n"
     ]
    }
   ],
   "source": [
    "a_array = np.array([1,2,3])\n",
    "b_array = np.array([4,5,6])\n",
    "print(a_array,b_array,sep=\"\\n\")"
   ]
  },
  {
   "cell_type": "code",
   "execution_count": 19,
   "id": "5108dbfe",
   "metadata": {},
   "outputs": [
    {
     "data": {
      "text/plain": [
       "array([25, 49, 81])"
      ]
     },
     "execution_count": 19,
     "metadata": {},
     "output_type": "execute_result"
    }
   ],
   "source": [
    "def add_square(a,b):\n",
    "    return(a+b)**2\n",
    "vadd_square = np.vectorize(add_square)\n",
    "vadd_square(a_array,b_array)"
   ]
  },
  {
   "cell_type": "markdown",
   "id": "26ec5f8f",
   "metadata": {},
   "source": [
    "How to get the items not common to both series A and series B"
   ]
  },
  {
   "cell_type": "code",
   "execution_count": 21,
   "id": "a8ce9968",
   "metadata": {},
   "outputs": [
    {
     "name": "stdout",
     "output_type": "stream",
     "text": [
      "0     2\n",
      "1     4\n",
      "2     6\n",
      "3     8\n",
      "4    10\n",
      "dtype: int64\n",
      "\n",
      "0     8\n",
      "1    10\n",
      "2    12\n",
      "3    14\n",
      "4    16\n",
      "dtype: int64\n"
     ]
    }
   ],
   "source": [
    "\n",
    "p1 = pd.Series([2, 4, 6, 8, 10])\n",
    "p2 = pd.Series([8, 10, 12, 14, 16])\n",
    "print(p1)\n",
    "print()\n",
    "print(p2)"
   ]
  },
  {
   "cell_type": "code",
   "execution_count": 27,
   "id": "0df77d32",
   "metadata": {},
   "outputs": [
    {
     "ename": "AttributeError",
     "evalue": "module 'numpy' has no attribute 'union'",
     "output_type": "error",
     "traceback": [
      "\u001b[1;31m---------------------------------------------------------------------------\u001b[0m",
      "\u001b[1;31mAttributeError\u001b[0m                            Traceback (most recent call last)",
      "Cell \u001b[1;32mIn[27], line 2\u001b[0m\n\u001b[0;32m      1\u001b[0m p1[\u001b[38;5;241m~\u001b[39mp1\u001b[38;5;241m.\u001b[39misin(p2)]\n\u001b[1;32m----> 2\u001b[0m p_u \u001b[38;5;241m=\u001b[39m pd\u001b[38;5;241m.\u001b[39mSeries(\u001b[43mnp\u001b[49m\u001b[38;5;241;43m.\u001b[39;49m\u001b[43munion\u001b[49m(p1,p2))\n\u001b[0;32m      3\u001b[0m p_i \u001b[38;5;241m=\u001b[39m pd\u001b[38;5;241m.\u001b[39mSeries(np\u001b[38;5;241m.\u001b[39minter(p1,p2))\n\u001b[0;32m      4\u001b[0m p_u[\u001b[38;5;241m~\u001b[39mp_i\u001b[38;5;241m.\u001b[39misin(p_u)]\n",
      "File \u001b[1;32mC:\\ProgramData\\anaconda3\\lib\\site-packages\\numpy\\__init__.py:311\u001b[0m, in \u001b[0;36m__getattr__\u001b[1;34m(attr)\u001b[0m\n\u001b[0;32m    308\u001b[0m     \u001b[38;5;28;01mfrom\u001b[39;00m \u001b[38;5;21;01m.\u001b[39;00m\u001b[38;5;21;01mtesting\u001b[39;00m \u001b[38;5;28;01mimport\u001b[39;00m Tester\n\u001b[0;32m    309\u001b[0m     \u001b[38;5;28;01mreturn\u001b[39;00m Tester\n\u001b[1;32m--> 311\u001b[0m \u001b[38;5;28;01mraise\u001b[39;00m \u001b[38;5;167;01mAttributeError\u001b[39;00m(\u001b[38;5;124m\"\u001b[39m\u001b[38;5;124mmodule \u001b[39m\u001b[38;5;132;01m{!r}\u001b[39;00m\u001b[38;5;124m has no attribute \u001b[39m\u001b[38;5;124m\"\u001b[39m\n\u001b[0;32m    312\u001b[0m                      \u001b[38;5;124m\"\u001b[39m\u001b[38;5;132;01m{!r}\u001b[39;00m\u001b[38;5;124m\"\u001b[39m\u001b[38;5;241m.\u001b[39mformat(\u001b[38;5;18m__name__\u001b[39m, attr))\n",
      "\u001b[1;31mAttributeError\u001b[0m: module 'numpy' has no attribute 'union'"
     ]
    }
   ],
   "source": [
    "p1[~p1.isin(p2)]\n",
    "p_u = pd.Series(np.union(p1,p2))\n",
    "p_i = pd.Series(np.inter(p1,p2))\n",
    "p_u[~p_i.isin(p_u)]"
   ]
  },
  {
   "cell_type": "markdown",
   "id": "4818927a",
   "metadata": {},
   "source": [
    "Find the mean of the array"
   ]
  },
  {
   "cell_type": "code",
   "execution_count": 34,
   "id": "9d9ffde0",
   "metadata": {},
   "outputs": [],
   "source": [
    "arr = np.array([[20, 15, 37], [47, 13,np.nan]])"
   ]
  },
  {
   "cell_type": "code",
   "execution_count": 36,
   "id": "ec4adfc6",
   "metadata": {},
   "outputs": [
    {
     "ename": "SyntaxError",
     "evalue": "invalid syntax (1211712188.py, line 1)",
     "output_type": "error",
     "traceback": [
      "\u001b[1;36m  Cell \u001b[1;32mIn[36], line 1\u001b[1;36m\u001b[0m\n\u001b[1;33m    np.nanmean(arr)S\u001b[0m\n\u001b[1;37m                   ^\u001b[0m\n\u001b[1;31mSyntaxError\u001b[0m\u001b[1;31m:\u001b[0m invalid syntax\n"
     ]
    }
   ],
   "source": [
    "np.nanmean(arr)S"
   ]
  },
  {
   "cell_type": "markdown",
   "id": "438afd20",
   "metadata": {},
   "source": [
    "How can you find the row for which the value of a specific column is max and min\n"
   ]
  },
  {
   "cell_type": "code",
   "execution_count": 38,
   "id": "aa2d4789",
   "metadata": {},
   "outputs": [
    {
     "data": {
      "text/html": [
       "<div>\n",
       "<style scoped>\n",
       "    .dataframe tbody tr th:only-of-type {\n",
       "        vertical-align: middle;\n",
       "    }\n",
       "\n",
       "    .dataframe tbody tr th {\n",
       "        vertical-align: top;\n",
       "    }\n",
       "\n",
       "    .dataframe thead th {\n",
       "        text-align: right;\n",
       "    }\n",
       "</style>\n",
       "<table border=\"1\" class=\"dataframe\">\n",
       "  <thead>\n",
       "    <tr style=\"text-align: right;\">\n",
       "      <th></th>\n",
       "      <th>sales</th>\n",
       "      <th>age</th>\n",
       "    </tr>\n",
       "  </thead>\n",
       "  <tbody>\n",
       "    <tr>\n",
       "      <th>0</th>\n",
       "      <td>23</td>\n",
       "      <td>50</td>\n",
       "    </tr>\n",
       "    <tr>\n",
       "      <th>1</th>\n",
       "      <td>34</td>\n",
       "      <td>40</td>\n",
       "    </tr>\n",
       "    <tr>\n",
       "      <th>2</th>\n",
       "      <td>56</td>\n",
       "      <td>30</td>\n",
       "    </tr>\n",
       "  </tbody>\n",
       "</table>\n",
       "</div>"
      ],
      "text/plain": [
       "   sales  age\n",
       "0     23   50\n",
       "1     34   40\n",
       "2     56   30"
      ]
     },
     "execution_count": 38,
     "metadata": {},
     "output_type": "execute_result"
    }
   ],
   "source": [
    "data = {\n",
    "  \"sales\": [23, 34, 56],\n",
    "  \"age\": [50, 40, 30]\n",
    "}\n",
    "df = pd.DataFrame(data)\n",
    "df"
   ]
  },
  {
   "cell_type": "code",
   "execution_count": 41,
   "id": "b3e2eff2",
   "metadata": {},
   "outputs": [
    {
     "data": {
      "text/html": [
       "<div>\n",
       "<style scoped>\n",
       "    .dataframe tbody tr th:only-of-type {\n",
       "        vertical-align: middle;\n",
       "    }\n",
       "\n",
       "    .dataframe tbody tr th {\n",
       "        vertical-align: top;\n",
       "    }\n",
       "\n",
       "    .dataframe thead th {\n",
       "        text-align: right;\n",
       "    }\n",
       "</style>\n",
       "<table border=\"1\" class=\"dataframe\">\n",
       "  <thead>\n",
       "    <tr style=\"text-align: right;\">\n",
       "      <th></th>\n",
       "      <th>sales</th>\n",
       "      <th>age</th>\n",
       "    </tr>\n",
       "  </thead>\n",
       "  <tbody>\n",
       "    <tr>\n",
       "      <th>2</th>\n",
       "      <td>56</td>\n",
       "      <td>30</td>\n",
       "    </tr>\n",
       "  </tbody>\n",
       "</table>\n",
       "</div>"
      ],
      "text/plain": [
       "   sales  age\n",
       "2     56   30"
      ]
     },
     "execution_count": 41,
     "metadata": {},
     "output_type": "execute_result"
    }
   ],
   "source": [
    "df[df.sales==df.sales.max()]"
   ]
  },
  {
   "cell_type": "code",
   "execution_count": 48,
   "id": "ea8b1ea9",
   "metadata": {},
   "outputs": [
    {
     "data": {
      "text/html": [
       "<div>\n",
       "<style scoped>\n",
       "    .dataframe tbody tr th:only-of-type {\n",
       "        vertical-align: middle;\n",
       "    }\n",
       "\n",
       "    .dataframe tbody tr th {\n",
       "        vertical-align: top;\n",
       "    }\n",
       "\n",
       "    .dataframe thead th {\n",
       "        text-align: right;\n",
       "    }\n",
       "</style>\n",
       "<table border=\"1\" class=\"dataframe\">\n",
       "  <thead>\n",
       "    <tr style=\"text-align: right;\">\n",
       "      <th></th>\n",
       "      <th>sales</th>\n",
       "      <th>age</th>\n",
       "    </tr>\n",
       "  </thead>\n",
       "  <tbody>\n",
       "    <tr>\n",
       "      <th>0</th>\n",
       "      <td>23</td>\n",
       "      <td>50</td>\n",
       "    </tr>\n",
       "  </tbody>\n",
       "</table>\n",
       "</div>"
      ],
      "text/plain": [
       "   sales  age\n",
       "0     23   50"
      ]
     },
     "execution_count": 48,
     "metadata": {},
     "output_type": "execute_result"
    }
   ],
   "source": [
    "df[df.sales==df.sales.min()]"
   ]
  },
  {
   "cell_type": "code",
   "execution_count": 47,
   "id": "c9972eb2",
   "metadata": {},
   "outputs": [
    {
     "name": "stdout",
     "output_type": "stream",
     "text": [
      "sales    2\n",
      "age      0\n",
      "dtype: int64\n",
      "sales    0\n",
      "age      2\n",
      "dtype: int64\n"
     ]
    }
   ],
   "source": [
    "print(df.idxmax())\n",
    "print(df.idxmin())"
   ]
  },
  {
   "cell_type": "markdown",
   "id": "954e1ebe",
   "metadata": {},
   "source": [
    "given a two numpy arrays, the task is to multiply 2d numpy array with 1d numpy array each row corresponding to one element in numpy"
   ]
  },
  {
   "cell_type": "code",
   "execution_count": 50,
   "id": "d24a3df1",
   "metadata": {},
   "outputs": [
    {
     "name": "stdout",
     "output_type": "stream",
     "text": [
      "[[1 2 3]\n",
      " [2 4 5]\n",
      " [1 2 3]]\n",
      "\n",
      "[0 2 3]\n"
     ]
    }
   ],
   "source": [
    "ini_array1 = np.array([[1, 2, 3], [2, 4, 5], [1, 2, 3]])\n",
    "ini_array2 = np.array([0, 2, 3])\n",
    "print(ini_array1,ini_array2,sep=\"\\n\\n\")"
   ]
  },
  {
   "cell_type": "code",
   "execution_count": 53,
   "id": "da7057bf",
   "metadata": {},
   "outputs": [
    {
     "name": "stdout",
     "output_type": "stream",
     "text": [
      "[[ 0  4  9]\n",
      " [ 0  8 15]\n",
      " [ 0  4  9]]\n"
     ]
    }
   ],
   "source": [
    "ini_array3 = ini_array1*ini_array2\n",
    "print(ini_array3)"
   ]
  },
  {
   "cell_type": "code",
   "execution_count": 57,
   "id": "5f5e14b2",
   "metadata": {},
   "outputs": [
    {
     "name": "stdout",
     "output_type": "stream",
     "text": [
      "[[ 0  0  0]\n",
      " [ 4  8 10]\n",
      " [ 3  6  9]]\n"
     ]
    }
   ],
   "source": [
    "ini_array3 = ini_array1*ini_array2[:,np.newaxis]\n",
    "print(ini_array3)"
   ]
  },
  {
   "cell_type": "code",
   "execution_count": 58,
   "id": "d175594d",
   "metadata": {},
   "outputs": [
    {
     "name": "stdout",
     "output_type": "stream",
     "text": [
      "[[ 0  0  0]\n",
      " [ 4  8 10]\n",
      " [ 3  6  9]]\n"
     ]
    }
   ],
   "source": [
    "ini_array3 = ini_array1*ini_array2[:,None]\n",
    "print(ini_array3)"
   ]
  },
  {
   "cell_type": "code",
   "execution_count": 59,
   "id": "142b9661",
   "metadata": {},
   "outputs": [
    {
     "name": "stdout",
     "output_type": "stream",
     "text": [
      "[[ 0  0  0]\n",
      " [ 4  8  4]\n",
      " [ 9 15  9]]\n"
     ]
    }
   ],
   "source": [
    "ini_array3 = (ini_array1*ini_array2).T\n",
    "print(ini_array3)"
   ]
  }
 ],
 "metadata": {
  "kernelspec": {
   "display_name": "Python 3 (ipykernel)",
   "language": "python",
   "name": "python3"
  },
  "language_info": {
   "codemirror_mode": {
    "name": "ipython",
    "version": 3
   },
   "file_extension": ".py",
   "mimetype": "text/x-python",
   "name": "python",
   "nbconvert_exporter": "python",
   "pygments_lexer": "ipython3",
   "version": "3.10.9"
  }
 },
 "nbformat": 4,
 "nbformat_minor": 5
}
